{
 "cells": [
  {
   "cell_type": "markdown",
   "metadata": {},
   "source": [
    "# **COVID19 Tweets Scraping** <br>\n",
    "\n",
    "I used this script to scrape data from twitter. Due to the limitations of the package, I couldn't acquire tweets that were around February. Keywords that were used include 'covid19', 'coronavirus', 'Circuit Breaker', 'Social Distancing', 'Mask', and 'Pandemic'.\n",
    "\n",
    "The package used is [GetOldTweets3](https://pypi.org/project/GetOldTweets3/)"
   ]
  },
  {
   "cell_type": "code",
   "execution_count": 1,
   "metadata": {},
   "outputs": [],
   "source": [
    "import GetOldTweets3 as got\n",
    "import pandas as pd"
   ]
  },
  {
   "cell_type": "code",
   "execution_count": 32,
   "metadata": {},
   "outputs": [],
   "source": [
    "# keywords = ['covid19', 'coronavirus', 'Circuit Breaker', 'Social Distancing', 'Mask', 'Pandemic']\n",
    "text_query = 'covid19'\n",
    "count = 5000\n",
    "geocode=\"Singapore\"\n",
    "startdate = '2020-05-01'\n",
    "enddate = '2020-06-01'"
   ]
  },
  {
   "cell_type": "code",
   "execution_count": 33,
   "metadata": {},
   "outputs": [],
   "source": [
    "# Function that pulls tweets based on a general search query\n",
    "\n",
    "# Parameters: (text query you want to search), (max number of most recent tweets to pull from)\n",
    "\n",
    "def text_query_to_csv(text_query, count, geocode, startdate, enddate):\n",
    "    # Creation of query object\n",
    "    tweetCriteria = got.manager.TweetCriteria().setQuerySearch(text_query).setMaxTweets(count).setNear(geocode).setSince(startdate).setUntil(enddate).setEmoji(\"unicode\")\n",
    "    # Creation of list that contains all tweets\n",
    "    tweets = got.manager.TweetManager.getTweets(tweetCriteria)\n",
    "\n",
    "    # Creating list of chosen tweet data\n",
    "    text_tweets = [[tweet.date, tweet.text,tweet.id,tweet.username,tweet.geo] for tweet in tweets]\n",
    "\n",
    "    # Creation of dataframe from tweets\n",
    "    tweets_df = pd.DataFrame(text_tweets, columns = ['Datetime', 'Text','TweetID','username','geo'])\n",
    "    \n",
    "    return tweets_df"
   ]
  },
  {
   "cell_type": "code",
   "execution_count": 34,
   "metadata": {},
   "outputs": [],
   "source": [
    "df = text_query_to_csv(text_query, count, geocode, startdate, enddate)"
   ]
  },
  {
   "cell_type": "code",
   "execution_count": 35,
   "metadata": {},
   "outputs": [
    {
     "output_type": "execute_result",
     "data": {
      "text/plain": "                      Datetime  \\\n0    2020-05-31 23:20:16+00:00   \n1    2020-05-31 23:16:11+00:00   \n2    2020-05-31 22:40:53+00:00   \n3    2020-05-31 22:37:13+00:00   \n4    2020-05-31 22:00:00+00:00   \n...                        ...   \n1438 2020-05-01 03:57:54+00:00   \n1439 2020-05-01 03:44:56+00:00   \n1440 2020-05-01 03:38:06+00:00   \n1441 2020-05-01 03:09:27+00:00   \n1442 2020-05-01 02:17:18+00:00   \n\n                                                   Text              TweetID  \\\n0     Even with mask aren't we have maintain 1 meter...  1267234471180296192   \n1     Due to #Covid19 most professionals are working...  1267233440862277636   \n2     no racism in singapore?! are u fucking kidding...  1267224560354553857   \n3     JUNI BULAN TERAKHIR COVID19 AAMIIN JUNI BULAN ...  1267223637393674243   \n4     If you only focus on the problem, you might mi...  1267214271190007808   \n...                                                 ...                  ...   \n1438  Happy Labour Day! Order online at http://www.2...  1256070315681157122   \n1439  Something is cooking #COVID19 #3dmodeling #sci...  1256067050859925505   \n1440  #happylabourday #COVID19 #StayHome #StaySafe #...  1256065331895787520   \n1441  ♥️#music #COVER #pop @LanaDelRey #videogames #...  1256058124181450752   \n1442  My challenge for the day. #COVID19 #circuitbre...  1256045000112013312   \n\n             username geo  \n0            ShomalaT      \n1          CantasticC      \n2         wolfbunnies      \n3        labellacsnvl      \n4          limjunlong      \n...               ...  ..  \n1438        dcwinessg      \n1439       glogliiita      \n1440  NasserAboobakar      \n1441  champagne5hower      \n1442     himanshu2904      \n\n[1443 rows x 5 columns]",
      "text/html": "<div>\n<style scoped>\n    .dataframe tbody tr th:only-of-type {\n        vertical-align: middle;\n    }\n\n    .dataframe tbody tr th {\n        vertical-align: top;\n    }\n\n    .dataframe thead th {\n        text-align: right;\n    }\n</style>\n<table border=\"1\" class=\"dataframe\">\n  <thead>\n    <tr style=\"text-align: right;\">\n      <th></th>\n      <th>Datetime</th>\n      <th>Text</th>\n      <th>TweetID</th>\n      <th>username</th>\n      <th>geo</th>\n    </tr>\n  </thead>\n  <tbody>\n    <tr>\n      <td>0</td>\n      <td>2020-05-31 23:20:16+00:00</td>\n      <td>Even with mask aren't we have maintain 1 meter...</td>\n      <td>1267234471180296192</td>\n      <td>ShomalaT</td>\n      <td></td>\n    </tr>\n    <tr>\n      <td>1</td>\n      <td>2020-05-31 23:16:11+00:00</td>\n      <td>Due to #Covid19 most professionals are working...</td>\n      <td>1267233440862277636</td>\n      <td>CantasticC</td>\n      <td></td>\n    </tr>\n    <tr>\n      <td>2</td>\n      <td>2020-05-31 22:40:53+00:00</td>\n      <td>no racism in singapore?! are u fucking kidding...</td>\n      <td>1267224560354553857</td>\n      <td>wolfbunnies</td>\n      <td></td>\n    </tr>\n    <tr>\n      <td>3</td>\n      <td>2020-05-31 22:37:13+00:00</td>\n      <td>JUNI BULAN TERAKHIR COVID19 AAMIIN JUNI BULAN ...</td>\n      <td>1267223637393674243</td>\n      <td>labellacsnvl</td>\n      <td></td>\n    </tr>\n    <tr>\n      <td>4</td>\n      <td>2020-05-31 22:00:00+00:00</td>\n      <td>If you only focus on the problem, you might mi...</td>\n      <td>1267214271190007808</td>\n      <td>limjunlong</td>\n      <td></td>\n    </tr>\n    <tr>\n      <td>...</td>\n      <td>...</td>\n      <td>...</td>\n      <td>...</td>\n      <td>...</td>\n      <td>...</td>\n    </tr>\n    <tr>\n      <td>1438</td>\n      <td>2020-05-01 03:57:54+00:00</td>\n      <td>Happy Labour Day! Order online at http://www.2...</td>\n      <td>1256070315681157122</td>\n      <td>dcwinessg</td>\n      <td></td>\n    </tr>\n    <tr>\n      <td>1439</td>\n      <td>2020-05-01 03:44:56+00:00</td>\n      <td>Something is cooking #COVID19 #3dmodeling #sci...</td>\n      <td>1256067050859925505</td>\n      <td>glogliiita</td>\n      <td></td>\n    </tr>\n    <tr>\n      <td>1440</td>\n      <td>2020-05-01 03:38:06+00:00</td>\n      <td>#happylabourday #COVID19 #StayHome #StaySafe #...</td>\n      <td>1256065331895787520</td>\n      <td>NasserAboobakar</td>\n      <td></td>\n    </tr>\n    <tr>\n      <td>1441</td>\n      <td>2020-05-01 03:09:27+00:00</td>\n      <td>♥️#music #COVER #pop @LanaDelRey #videogames #...</td>\n      <td>1256058124181450752</td>\n      <td>champagne5hower</td>\n      <td></td>\n    </tr>\n    <tr>\n      <td>1442</td>\n      <td>2020-05-01 02:17:18+00:00</td>\n      <td>My challenge for the day. #COVID19 #circuitbre...</td>\n      <td>1256045000112013312</td>\n      <td>himanshu2904</td>\n      <td></td>\n    </tr>\n  </tbody>\n</table>\n<p>1443 rows × 5 columns</p>\n</div>"
     },
     "metadata": {},
     "execution_count": 35
    }
   ],
   "source": [
    "df"
   ]
  },
  {
   "cell_type": "code",
   "execution_count": 36,
   "metadata": {},
   "outputs": [
    {
     "output_type": "execute_result",
     "data": {
      "text/plain": "1443"
     },
     "metadata": {},
     "execution_count": 36
    }
   ],
   "source": [
    "len(df)"
   ]
  },
  {
   "cell_type": "code",
   "execution_count": 37,
   "metadata": {},
   "outputs": [],
   "source": [
    "filename = '/Users/TeYan/OneDrive/Work/Kaggle/COVID19_Tweets/' + text_query + '_' + startdate + '_to_' + enddate + '.csv'\n",
    "df.to_csv(filename, index=False)"
   ]
  }
 ],
 "metadata": {
  "language_info": {
   "codemirror_mode": {
    "name": "ipython",
    "version": 3
   },
   "file_extension": ".py",
   "mimetype": "text/x-python",
   "name": "python",
   "nbconvert_exporter": "python",
   "pygments_lexer": "ipython3",
   "version": "3.7.4-final"
  },
  "orig_nbformat": 2,
  "kernelspec": {
   "name": "python37464bitbasecondab242d5e5f8174bf28be86f1d44ad44ad",
   "display_name": "Python 3.7.4 64-bit ('base': conda)"
  }
 },
 "nbformat": 4,
 "nbformat_minor": 2
}