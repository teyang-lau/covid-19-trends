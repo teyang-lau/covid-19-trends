{
 "cells": [
  {
   "cell_type": "code",
   "execution_count": 10,
   "metadata": {},
   "outputs": [],
   "source": [
    "import pandas as pd\n",
    "import numpy as np"
   ]
  },
  {
   "cell_type": "code",
   "execution_count": 11,
   "metadata": {},
   "outputs": [],
   "source": [
    "## Merge population and covid dataz\n",
    "\n",
    "covid = pd.read_csv('./Data/covid_19_data.csv')\n",
    "pop = pd.read_csv('./Data/population_by_country_2020.csv')"
   ]
  },
  {
   "cell_type": "code",
   "execution_count": 12,
   "metadata": {},
   "outputs": [
    {
     "output_type": "execute_result",
     "data": {
      "text/plain": "   SNo ObservationDate Province/State  Country/Region      Last Update  \\\n0    1      01/22/2020          Anhui  Mainland China  1/22/2020 17:00   \n1    2      01/22/2020        Beijing  Mainland China  1/22/2020 17:00   \n2    3      01/22/2020      Chongqing  Mainland China  1/22/2020 17:00   \n3    4      01/22/2020         Fujian  Mainland China  1/22/2020 17:00   \n4    5      01/22/2020          Gansu  Mainland China  1/22/2020 17:00   \n\n   Confirmed  Deaths  Recovered  \n0        1.0     0.0        0.0  \n1       14.0     0.0        0.0  \n2        6.0     0.0        0.0  \n3        1.0     0.0        0.0  \n4        0.0     0.0        0.0  ",
      "text/html": "<div>\n<style scoped>\n    .dataframe tbody tr th:only-of-type {\n        vertical-align: middle;\n    }\n\n    .dataframe tbody tr th {\n        vertical-align: top;\n    }\n\n    .dataframe thead th {\n        text-align: right;\n    }\n</style>\n<table border=\"1\" class=\"dataframe\">\n  <thead>\n    <tr style=\"text-align: right;\">\n      <th></th>\n      <th>SNo</th>\n      <th>ObservationDate</th>\n      <th>Province/State</th>\n      <th>Country/Region</th>\n      <th>Last Update</th>\n      <th>Confirmed</th>\n      <th>Deaths</th>\n      <th>Recovered</th>\n    </tr>\n  </thead>\n  <tbody>\n    <tr>\n      <td>0</td>\n      <td>1</td>\n      <td>01/22/2020</td>\n      <td>Anhui</td>\n      <td>Mainland China</td>\n      <td>1/22/2020 17:00</td>\n      <td>1.0</td>\n      <td>0.0</td>\n      <td>0.0</td>\n    </tr>\n    <tr>\n      <td>1</td>\n      <td>2</td>\n      <td>01/22/2020</td>\n      <td>Beijing</td>\n      <td>Mainland China</td>\n      <td>1/22/2020 17:00</td>\n      <td>14.0</td>\n      <td>0.0</td>\n      <td>0.0</td>\n    </tr>\n    <tr>\n      <td>2</td>\n      <td>3</td>\n      <td>01/22/2020</td>\n      <td>Chongqing</td>\n      <td>Mainland China</td>\n      <td>1/22/2020 17:00</td>\n      <td>6.0</td>\n      <td>0.0</td>\n      <td>0.0</td>\n    </tr>\n    <tr>\n      <td>3</td>\n      <td>4</td>\n      <td>01/22/2020</td>\n      <td>Fujian</td>\n      <td>Mainland China</td>\n      <td>1/22/2020 17:00</td>\n      <td>1.0</td>\n      <td>0.0</td>\n      <td>0.0</td>\n    </tr>\n    <tr>\n      <td>4</td>\n      <td>5</td>\n      <td>01/22/2020</td>\n      <td>Gansu</td>\n      <td>Mainland China</td>\n      <td>1/22/2020 17:00</td>\n      <td>0.0</td>\n      <td>0.0</td>\n      <td>0.0</td>\n    </tr>\n  </tbody>\n</table>\n</div>"
     },
     "metadata": {},
     "execution_count": 12
    }
   ],
   "source": [
    "covid.head()"
   ]
  },
  {
   "cell_type": "code",
   "execution_count": 43,
   "metadata": {},
   "outputs": [
    {
     "output_type": "execute_result",
     "data": {
      "text/plain": "         Country  Population_2020 Yearly Change  Net Change  Density (P/Km²)  \\\n0          China       1438207241        0.39 %     5540090              153   \n1          India       1377233523        0.99 %    13586631              464   \n2  United States        330610570        0.59 %     1937734               36   \n3      Indonesia        272931713        1.07 %     2898047              151   \n4       Pakistan        219992900        2.00 %     4327022              287   \n\n   Land Area (Km²)  Migrants (net) Fert. Rate Med. Age Urban Pop % World Share  \n0          9388211       -348399.0        1.7       38        61 %     18.47 %  \n1          2973190       -532687.0        2.2       28        35 %     17.70 %  \n2          9147420        954806.0        1.8       38        83 %      4.25 %  \n3          1811570        -98955.0        2.3       30        56 %      3.51 %  \n4           770880       -233379.0        3.6       23        35 %      2.83 %  ",
      "text/html": "<div>\n<style scoped>\n    .dataframe tbody tr th:only-of-type {\n        vertical-align: middle;\n    }\n\n    .dataframe tbody tr th {\n        vertical-align: top;\n    }\n\n    .dataframe thead th {\n        text-align: right;\n    }\n</style>\n<table border=\"1\" class=\"dataframe\">\n  <thead>\n    <tr style=\"text-align: right;\">\n      <th></th>\n      <th>Country</th>\n      <th>Population_2020</th>\n      <th>Yearly Change</th>\n      <th>Net Change</th>\n      <th>Density (P/Km²)</th>\n      <th>Land Area (Km²)</th>\n      <th>Migrants (net)</th>\n      <th>Fert. Rate</th>\n      <th>Med. Age</th>\n      <th>Urban Pop %</th>\n      <th>World Share</th>\n    </tr>\n  </thead>\n  <tbody>\n    <tr>\n      <td>0</td>\n      <td>China</td>\n      <td>1438207241</td>\n      <td>0.39 %</td>\n      <td>5540090</td>\n      <td>153</td>\n      <td>9388211</td>\n      <td>-348399.0</td>\n      <td>1.7</td>\n      <td>38</td>\n      <td>61 %</td>\n      <td>18.47 %</td>\n    </tr>\n    <tr>\n      <td>1</td>\n      <td>India</td>\n      <td>1377233523</td>\n      <td>0.99 %</td>\n      <td>13586631</td>\n      <td>464</td>\n      <td>2973190</td>\n      <td>-532687.0</td>\n      <td>2.2</td>\n      <td>28</td>\n      <td>35 %</td>\n      <td>17.70 %</td>\n    </tr>\n    <tr>\n      <td>2</td>\n      <td>United States</td>\n      <td>330610570</td>\n      <td>0.59 %</td>\n      <td>1937734</td>\n      <td>36</td>\n      <td>9147420</td>\n      <td>954806.0</td>\n      <td>1.8</td>\n      <td>38</td>\n      <td>83 %</td>\n      <td>4.25 %</td>\n    </tr>\n    <tr>\n      <td>3</td>\n      <td>Indonesia</td>\n      <td>272931713</td>\n      <td>1.07 %</td>\n      <td>2898047</td>\n      <td>151</td>\n      <td>1811570</td>\n      <td>-98955.0</td>\n      <td>2.3</td>\n      <td>30</td>\n      <td>56 %</td>\n      <td>3.51 %</td>\n    </tr>\n    <tr>\n      <td>4</td>\n      <td>Pakistan</td>\n      <td>219992900</td>\n      <td>2.00 %</td>\n      <td>4327022</td>\n      <td>287</td>\n      <td>770880</td>\n      <td>-233379.0</td>\n      <td>3.6</td>\n      <td>23</td>\n      <td>35 %</td>\n      <td>2.83 %</td>\n    </tr>\n  </tbody>\n</table>\n</div>"
     },
     "metadata": {},
     "execution_count": 43
    }
   ],
   "source": [
    "# rename columns\n",
    "pop = pop.rename(columns={'Country (or dependency)':'Country', 'Population (2020)':'Population_2020'})\n",
    "pop.head()"
   ]
  },
  {
   "cell_type": "code",
   "execution_count": 14,
   "metadata": {},
   "outputs": [],
   "source": [
    "## Create ISO3 for datasets\n",
    "import pycountry\n",
    "\n",
    "import geopandas as gpd # for reading vector-based spatial data format\n",
    "#shapefile = '/kaggle/input/natural-earth-maps/ne_110m_admin_0_countries.shp'\n",
    "shapefile = r'C:\\Users\\TeYan\\OneDrive\\Work\\Kaggle\\COVID19\\110m_cultural\\ne_110m_admin_0_countries.shp'\n",
    "\n",
    "# Read shapefile using Geopandas\n",
    "#gdf = gpd.read_file(shapefile)[['ADMIN', 'ADM0_A3', 'geometry']]\n",
    "gdf = gpd.read_file(shapefile)\n",
    "\n",
    "# Drop row corresponding to 'Antarctica'\n",
    "gdf = gdf.drop(gdf.index[159])\n",
    "## Get the ISO 3166-1 alpha-3 Country Codes\n",
    "\n",
    "# function for getting the iso code through fuzzy search\n",
    "def do_fuzzy_search(country):\n",
    "    try:\n",
    "        result = pycountry.countries.search_fuzzy(country)\n",
    "    except Exception:\n",
    "        return np.nan\n",
    "    else:\n",
    "        return result[0].alpha_3"
   ]
  },
  {
   "cell_type": "code",
   "execution_count": 32,
   "metadata": {},
   "outputs": [],
   "source": [
    "# replace country names to fit pycountry\n",
    "covid.loc[covid['Country/Region'] == 'Mainland China', 'Country/Region'] = 'China'\n",
    "covid.loc[covid['Country/Region'] == 'South Korea', 'Country/Region'] = 'Korea, Republic of'\n",
    "covid.loc[covid['Country/Region'] == 'Ivory Coast', 'Country/Region'] = \"Côte d'Ivoire\"\n",
    "covid.loc[covid['Country/Region'] == 'Republic of Ireland', 'Country/Region'] = 'Ireland'\n",
    "covid.loc[covid['Country/Region'] == 'occupied Palestinian territory', 'Country/Region'] = 'Palestine, State of'\n",
    "covid.loc[covid['Country/Region'] == 'Burma', 'Country/Region'] = 'Myanmar'\n",
    "covid.loc[covid['Country/Region'] == 'East Timor', 'Country/Region'] = 'Timor-Leste'\n",
    "covid.loc[covid['Country/Region'] == 'St. Martin', 'Country/Region'] = 'Saint Martin (French part)'\n",
    "covid.loc[covid['Country/Region'] == 'Bahamas, The', 'Country/Region'] = 'Bahamas'\n",
    "covid.loc[covid['Country/Region'] == 'Congo (Kinshasa)', 'Country/Region'] = 'Congo, The Democratic Republic of the'\n",
    "covid.loc[covid['Country/Region'] == 'Congo (Brazzaville)', 'Country/Region'] = 'Congo'\n",
    "covid.loc[covid['Country/Region'] == 'Laos', 'Country/Region'] = \"Lao People's Democratic Republic\"\n",
    "# Remove North Ireland which only has 1 day of record, its most likely merged with UK\n",
    "covid.loc[covid['Country/Region'] == 'North Ireland'] = ''\n",
    "\n",
    "# create iso mapping for countries in df\n",
    "iso_map = {country: do_fuzzy_search(country) for country in covid['Country/Region'].unique()}\n",
    "# apply the mapping to df\n",
    "covid['iso3'] = covid['Country/Region'].map(iso_map)\n",
    "\n",
    "#list(pycountry.countries)"
   ]
  },
  {
   "cell_type": "code",
   "execution_count": 33,
   "metadata": {},
   "outputs": [
    {
     "output_type": "execute_result",
     "data": {
      "text/plain": "   SNo ObservationDate Province/State Country/Region      Last Update  \\\n0    1      01/22/2020          Anhui          China  1/22/2020 17:00   \n1    2      01/22/2020        Beijing          China  1/22/2020 17:00   \n2    3      01/22/2020      Chongqing          China  1/22/2020 17:00   \n3    4      01/22/2020         Fujian          China  1/22/2020 17:00   \n4    5      01/22/2020          Gansu          China  1/22/2020 17:00   \n\n   Confirmed  Deaths  Recovered iso3  \n0        1.0     0.0        0.0  CHN  \n1       14.0     0.0        0.0  CHN  \n2        6.0     0.0        0.0  CHN  \n3        1.0     0.0        0.0  CHN  \n4        0.0     0.0        0.0  CHN  ",
      "text/html": "<div>\n<style scoped>\n    .dataframe tbody tr th:only-of-type {\n        vertical-align: middle;\n    }\n\n    .dataframe tbody tr th {\n        vertical-align: top;\n    }\n\n    .dataframe thead th {\n        text-align: right;\n    }\n</style>\n<table border=\"1\" class=\"dataframe\">\n  <thead>\n    <tr style=\"text-align: right;\">\n      <th></th>\n      <th>SNo</th>\n      <th>ObservationDate</th>\n      <th>Province/State</th>\n      <th>Country/Region</th>\n      <th>Last Update</th>\n      <th>Confirmed</th>\n      <th>Deaths</th>\n      <th>Recovered</th>\n      <th>iso3</th>\n    </tr>\n  </thead>\n  <tbody>\n    <tr>\n      <td>0</td>\n      <td>1</td>\n      <td>01/22/2020</td>\n      <td>Anhui</td>\n      <td>China</td>\n      <td>1/22/2020 17:00</td>\n      <td>1.0</td>\n      <td>0.0</td>\n      <td>0.0</td>\n      <td>CHN</td>\n    </tr>\n    <tr>\n      <td>1</td>\n      <td>2</td>\n      <td>01/22/2020</td>\n      <td>Beijing</td>\n      <td>China</td>\n      <td>1/22/2020 17:00</td>\n      <td>14.0</td>\n      <td>0.0</td>\n      <td>0.0</td>\n      <td>CHN</td>\n    </tr>\n    <tr>\n      <td>2</td>\n      <td>3</td>\n      <td>01/22/2020</td>\n      <td>Chongqing</td>\n      <td>China</td>\n      <td>1/22/2020 17:00</td>\n      <td>6.0</td>\n      <td>0.0</td>\n      <td>0.0</td>\n      <td>CHN</td>\n    </tr>\n    <tr>\n      <td>3</td>\n      <td>4</td>\n      <td>01/22/2020</td>\n      <td>Fujian</td>\n      <td>China</td>\n      <td>1/22/2020 17:00</td>\n      <td>1.0</td>\n      <td>0.0</td>\n      <td>0.0</td>\n      <td>CHN</td>\n    </tr>\n    <tr>\n      <td>4</td>\n      <td>5</td>\n      <td>01/22/2020</td>\n      <td>Gansu</td>\n      <td>China</td>\n      <td>1/22/2020 17:00</td>\n      <td>0.0</td>\n      <td>0.0</td>\n      <td>0.0</td>\n      <td>CHN</td>\n    </tr>\n  </tbody>\n</table>\n</div>"
     },
     "metadata": {},
     "execution_count": 33
    }
   ],
   "source": [
    "covid.head()"
   ]
  },
  {
   "cell_type": "code",
   "execution_count": 34,
   "metadata": {},
   "outputs": [
    {
     "output_type": "execute_result",
     "data": {
      "text/plain": "array(['Macau', 'Others', 'North Ireland', \"('St. Martin',)\",\n       'Channel Islands', 'Gambia, The', 'Cape Verde', 'Diamond Princess',\n       'West Bank and Gaza', 'MS Zaandam'], dtype=object)"
     },
     "metadata": {},
     "execution_count": 34
    }
   ],
   "source": [
    "noiso = covid[covid['iso3'].isna()]['Country/Region'].unique()\n",
    "noiso"
   ]
  },
  {
   "cell_type": "code",
   "execution_count": 53,
   "metadata": {},
   "outputs": [],
   "source": [
    "# replace country names to fit pycountry\n",
    "pop.loc[pop['Country'] == 'Burma', 'Country'] = 'Myanmar'\n",
    "pop.loc[pop['Country'] == 'South Korea', 'Country'] = 'Korea, Republic of'\n",
    "pop.loc[pop['Country'] == 'North Korea', 'Country'] = \"Korea, Democratic People's Republic of\"\n",
    "pop.loc[pop['Country'] == 'Czech Republic (Czechia)', 'Country'] = 'Czechia'\n",
    "pop.loc[pop['Country'] == 'Laos', 'Country'] = \"Lao People's Democratic Republic\"\n",
    "pop.loc[pop['Country'] == 'St. Vincent & Grenadines', 'Country'] = 'Saint Vincent and the Grenadines'\n",
    "pop.loc[pop['Country'] == 'U.S. Virgin Islands', 'Country'] = 'Virgin Islands, U.S.'\n",
    "pop.loc[pop['Country'] == 'Saint Kitts & Nevis', 'Country'] = 'Saint Kitts and Nevis'\n",
    "pop.loc[pop['Country'] == 'Faeroe Islands', 'Country'] = 'Faroe Islands'\n",
    "pop.loc[pop['Country'] == 'Wallis & Futuna', 'Country'] = 'Wallis and Futuna'\n",
    "pop.loc[pop['Country'] == 'Saint Pierre & Miquelon', 'Country'] = 'Saint Pierre and Miquelon'\n",
    "pop.loc[pop['Country'] == 'DR Congo', 'Country'] = 'Congo, The Democratic Republic of the'\n",
    "\n",
    "# create iso mapping for countries in df\n",
    "iso_map = {country: do_fuzzy_search(country) for country in pop['Country'].unique()}\n",
    "# apply the mapping to df\n",
    "pop['iso3'] = pop['Country'].map(iso_map)"
   ]
  },
  {
   "cell_type": "code",
   "execution_count": 54,
   "metadata": {},
   "outputs": [
    {
     "output_type": "execute_result",
     "data": {
      "text/plain": "array(['Sao Tome & Principe', 'Channel Islands', 'Caribbean Netherlands'],\n      dtype=object)"
     },
     "metadata": {},
     "execution_count": 54
    }
   ],
   "source": [
    "noiso = pop[pop['iso3'].isna()]['Country'].unique()\n",
    "noiso"
   ]
  },
  {
   "cell_type": "code",
   "execution_count": null,
   "metadata": {},
   "outputs": [],
   "source": []
  }
 ],
 "metadata": {
  "language_info": {
   "codemirror_mode": {
    "name": "ipython",
    "version": 3
   },
   "file_extension": ".py",
   "mimetype": "text/x-python",
   "name": "python",
   "nbconvert_exporter": "python",
   "pygments_lexer": "ipython3",
   "version": "3.7.4-final"
  },
  "orig_nbformat": 2,
  "kernelspec": {
   "name": "python37464bitbasecondab242d5e5f8174bf28be86f1d44ad44ad",
   "display_name": "Python 3.7.4 64-bit ('base': conda)"
  }
 },
 "nbformat": 4,
 "nbformat_minor": 2
}